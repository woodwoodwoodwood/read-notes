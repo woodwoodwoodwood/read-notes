{
 "cells": [
  {
   "cell_type": "code",
   "execution_count": null,
   "metadata": {},
   "outputs": [],
   "source": [
    "import torch\n",
    "import torch.nn as nn\n",
    "import torch.nn.functional as F"
   ]
  },
  {
   "cell_type": "code",
   "execution_count": null,
   "metadata": {},
   "outputs": [],
   "source": [
    "class Highway(nn.Module):\n",
    "    def __init__(self, size, num_layers=2):\n",
    "        super(Highway, self).__init__()\n",
    "        self.num_layers = num_layers\n",
    "        self.linears = nn.ModuleList([nn.Linear(size, size) for _ in range(num_layers)])\n",
    "        self.gates = nn.ModuleList([nn.Linear(size, size) for _ in range(num_layers)])\n",
    "\n",
    "    def forward(self, x):\n",
    "        for linear, gate in zip(self.linears, self.gates):\n",
    "            # 计算Transform gate的输出\n",
    "            gate_output = torch.sigmoid(gate(x))\n",
    "            # 计算非线性变换后的输出\n",
    "            nonlinear_output = F.relu(linear(x))\n",
    "            # 结合Transform gate 和 Carry gate\n",
    "            x = gate_output * nonlinear_output + (1 - gate_output) * x\n",
    "        return x"
   ]
  },
  {
   "cell_type": "code",
   "execution_count": null,
   "metadata": {},
   "outputs": [],
   "source": [
    "# 示例：假设输入的向量维度是512\n",
    "highway_net = Highway(size=512, num_layers=2)\n",
    "input_tensor = torch.randn(64, 512)  # 假设输入为64个样本，每个样本是512维向量\n",
    "output_tensor = highway_net(input_tensor)\n",
    "print(output_tensor.shape)  # 输出应为 (64, 512)"
   ]
  }
 ],
 "metadata": {
  "language_info": {
   "name": "python"
  }
 },
 "nbformat": 4,
 "nbformat_minor": 2
}
